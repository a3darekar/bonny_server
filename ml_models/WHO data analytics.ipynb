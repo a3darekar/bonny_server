{
 "cells": [
  {
   "cell_type": "code",
   "execution_count": 1,
   "metadata": {},
   "outputs": [],
   "source": [
    "import pandas as pd\n",
    "import pickle, joblib\n",
    "\n",
    "import matplotlib.pyplot as plt\n",
    "import seaborn as sns"
   ]
  },
  {
   "cell_type": "code",
   "execution_count": 2,
   "metadata": {},
   "outputs": [],
   "source": [
    "dataframe = pd.read_csv(\"data/who_statistics.csv\")\n",
    "dataframe = dataframe.drop(['supply_chain_plan', 'who_region', 'cname', 'incineration', 'burial', 'open_burning', 'annual_work_plan', 'electronic_stock'], axis=1)\n",
    "dataframe = dataframe[dataframe.columns.drop(list(dataframe.filter(regex='cause')))]\n",
    "dataframe = dataframe[dataframe.columns.drop(list(dataframe.filter(regex='policy')))]\n",
    "dataframe = dataframe[dataframe.columns.drop(list(dataframe.filter(regex='stockout')))]"
   ]
  },
  {
   "cell_type": "code",
   "execution_count": 3,
   "metadata": {},
   "outputs": [
    {
     "data": {
      "text/html": [
       "<div>\n",
       "<style scoped>\n",
       "    .dataframe tbody tr th:only-of-type {\n",
       "        vertical-align: middle;\n",
       "    }\n",
       "\n",
       "    .dataframe tbody tr th {\n",
       "        vertical-align: top;\n",
       "    }\n",
       "\n",
       "    .dataframe thead th {\n",
       "        text-align: right;\n",
       "    }\n",
       "</style>\n",
       "<table border=\"1\" class=\"dataframe\">\n",
       "  <thead>\n",
       "    <tr style=\"text-align: right;\">\n",
       "      <th></th>\n",
       "      <th>myp</th>\n",
       "      <th>dis_plan</th>\n",
       "      <th>dtp3_lt_50</th>\n",
       "      <th>dtp3_50_79</th>\n",
       "      <th>dtp3_gt_80</th>\n",
       "      <th>dtp3_gt_95</th>\n",
       "      <th>dtp3_gt_90</th>\n",
       "      <th>no_dtp3_cov</th>\n",
       "      <th>mcv1_lt_50</th>\n",
       "      <th>mcv1_50_79</th>\n",
       "      <th>...</th>\n",
       "      <th>dtp1_dtp3_drop</th>\n",
       "      <th>dtp1_mcv1_drop</th>\n",
       "      <th>mcv1_mcv2_drop</th>\n",
       "      <th>vitamin_a_deficiency</th>\n",
       "      <th>high_bacterial_rate</th>\n",
       "      <th>hepb</th>\n",
       "      <th>ipv</th>\n",
       "      <th>mmr</th>\n",
       "      <th>pcv</th>\n",
       "      <th>rotavirus</th>\n",
       "    </tr>\n",
       "  </thead>\n",
       "  <tbody>\n",
       "    <tr>\n",
       "      <th>0</th>\n",
       "      <td>Yes</td>\n",
       "      <td>0.0</td>\n",
       "      <td>6.0</td>\n",
       "      <td>26.0</td>\n",
       "      <td>68.0</td>\n",
       "      <td>35.0</td>\n",
       "      <td>47.0</td>\n",
       "      <td>0.00</td>\n",
       "      <td>6.0</td>\n",
       "      <td>34.0</td>\n",
       "      <td>...</td>\n",
       "      <td>13.00</td>\n",
       "      <td>18.00</td>\n",
       "      <td>26.83</td>\n",
       "      <td>Yes</td>\n",
       "      <td>No</td>\n",
       "      <td>Yes</td>\n",
       "      <td>Yes(OPV)</td>\n",
       "      <td>Yes</td>\n",
       "      <td>Yes</td>\n",
       "      <td>Yes</td>\n",
       "    </tr>\n",
       "    <tr>\n",
       "      <th>1</th>\n",
       "      <td>Yes</td>\n",
       "      <td>100.0</td>\n",
       "      <td>0.0</td>\n",
       "      <td>0.0</td>\n",
       "      <td>100.0</td>\n",
       "      <td>97.0</td>\n",
       "      <td>100.0</td>\n",
       "      <td>0.00</td>\n",
       "      <td>0.0</td>\n",
       "      <td>3.0</td>\n",
       "      <td>...</td>\n",
       "      <td>0.10</td>\n",
       "      <td>4.85</td>\n",
       "      <td>NaN</td>\n",
       "      <td>No</td>\n",
       "      <td>No</td>\n",
       "      <td>Yes</td>\n",
       "      <td>Yes(S)</td>\n",
       "      <td>Yes</td>\n",
       "      <td>Yes</td>\n",
       "      <td>No</td>\n",
       "    </tr>\n",
       "    <tr>\n",
       "      <th>2</th>\n",
       "      <td>No</td>\n",
       "      <td>100.0</td>\n",
       "      <td>0.0</td>\n",
       "      <td>0.0</td>\n",
       "      <td>100.0</td>\n",
       "      <td>0.0</td>\n",
       "      <td>100.0</td>\n",
       "      <td>82.42</td>\n",
       "      <td>0.0</td>\n",
       "      <td>35.0</td>\n",
       "      <td>...</td>\n",
       "      <td>3.06</td>\n",
       "      <td>18.37</td>\n",
       "      <td>3.75</td>\n",
       "      <td>No</td>\n",
       "      <td>No</td>\n",
       "      <td>Yes</td>\n",
       "      <td>Yes(S)</td>\n",
       "      <td>Yes</td>\n",
       "      <td>Yes</td>\n",
       "      <td>No</td>\n",
       "    </tr>\n",
       "    <tr>\n",
       "      <th>3</th>\n",
       "      <td>Yes</td>\n",
       "      <td>100.0</td>\n",
       "      <td>NaN</td>\n",
       "      <td>NaN</td>\n",
       "      <td>NaN</td>\n",
       "      <td>NaN</td>\n",
       "      <td>NaN</td>\n",
       "      <td>100.00</td>\n",
       "      <td>NaN</td>\n",
       "      <td>NaN</td>\n",
       "      <td>...</td>\n",
       "      <td>0.47</td>\n",
       "      <td>0.78</td>\n",
       "      <td>4.25</td>\n",
       "      <td>No</td>\n",
       "      <td>No</td>\n",
       "      <td>Yes</td>\n",
       "      <td>Yes</td>\n",
       "      <td>Yes</td>\n",
       "      <td>Yes</td>\n",
       "      <td>No</td>\n",
       "    </tr>\n",
       "    <tr>\n",
       "      <th>4</th>\n",
       "      <td>Yes</td>\n",
       "      <td>100.0</td>\n",
       "      <td>12.0</td>\n",
       "      <td>23.0</td>\n",
       "      <td>65.0</td>\n",
       "      <td>38.0</td>\n",
       "      <td>49.0</td>\n",
       "      <td>NaN</td>\n",
       "      <td>14.0</td>\n",
       "      <td>38.0</td>\n",
       "      <td>...</td>\n",
       "      <td>13.80</td>\n",
       "      <td>18.64</td>\n",
       "      <td>55.70</td>\n",
       "      <td>No</td>\n",
       "      <td>Yes</td>\n",
       "      <td>Yes</td>\n",
       "      <td>Yes(OPV)</td>\n",
       "      <td>Yes</td>\n",
       "      <td>Yes</td>\n",
       "      <td>Yes</td>\n",
       "    </tr>\n",
       "    <tr>\n",
       "      <th>...</th>\n",
       "      <td>...</td>\n",
       "      <td>...</td>\n",
       "      <td>...</td>\n",
       "      <td>...</td>\n",
       "      <td>...</td>\n",
       "      <td>...</td>\n",
       "      <td>...</td>\n",
       "      <td>...</td>\n",
       "      <td>...</td>\n",
       "      <td>...</td>\n",
       "      <td>...</td>\n",
       "      <td>...</td>\n",
       "      <td>...</td>\n",
       "      <td>...</td>\n",
       "      <td>...</td>\n",
       "      <td>...</td>\n",
       "      <td>...</td>\n",
       "      <td>...</td>\n",
       "      <td>...</td>\n",
       "      <td>...</td>\n",
       "      <td>...</td>\n",
       "    </tr>\n",
       "    <tr>\n",
       "      <th>189</th>\n",
       "      <td>No</td>\n",
       "      <td>0.0</td>\n",
       "      <td>25.0</td>\n",
       "      <td>41.0</td>\n",
       "      <td>34.0</td>\n",
       "      <td>20.0</td>\n",
       "      <td>25.0</td>\n",
       "      <td>0.00</td>\n",
       "      <td>12.0</td>\n",
       "      <td>39.0</td>\n",
       "      <td>...</td>\n",
       "      <td>28.57</td>\n",
       "      <td>11.90</td>\n",
       "      <td>47.30</td>\n",
       "      <td>No</td>\n",
       "      <td>Yes</td>\n",
       "      <td>Yes</td>\n",
       "      <td>Yes(S)</td>\n",
       "      <td>Yes</td>\n",
       "      <td>Yes</td>\n",
       "      <td>Yes</td>\n",
       "    </tr>\n",
       "    <tr>\n",
       "      <th>190</th>\n",
       "      <td>Yes</td>\n",
       "      <td>100.0</td>\n",
       "      <td>0.0</td>\n",
       "      <td>74.0</td>\n",
       "      <td>25.0</td>\n",
       "      <td>5.0</td>\n",
       "      <td>8.0</td>\n",
       "      <td>0.00</td>\n",
       "      <td>0.0</td>\n",
       "      <td>2.0</td>\n",
       "      <td>...</td>\n",
       "      <td>4.87</td>\n",
       "      <td>NaN</td>\n",
       "      <td>7.02</td>\n",
       "      <td>Yes</td>\n",
       "      <td>No</td>\n",
       "      <td>Yes</td>\n",
       "      <td>Yes(OPV)</td>\n",
       "      <td>Yes</td>\n",
       "      <td>No</td>\n",
       "      <td>No</td>\n",
       "    </tr>\n",
       "    <tr>\n",
       "      <th>191</th>\n",
       "      <td>Yes</td>\n",
       "      <td>100.0</td>\n",
       "      <td>12.0</td>\n",
       "      <td>35.0</td>\n",
       "      <td>54.0</td>\n",
       "      <td>20.0</td>\n",
       "      <td>28.0</td>\n",
       "      <td>0.00</td>\n",
       "      <td>14.0</td>\n",
       "      <td>50.0</td>\n",
       "      <td>...</td>\n",
       "      <td>8.05</td>\n",
       "      <td>17.24</td>\n",
       "      <td>25.00</td>\n",
       "      <td>Yes</td>\n",
       "      <td>No</td>\n",
       "      <td>Yes</td>\n",
       "      <td>Yes(OPV)</td>\n",
       "      <td>Yes</td>\n",
       "      <td>Yes</td>\n",
       "      <td>Yes</td>\n",
       "    </tr>\n",
       "    <tr>\n",
       "      <th>192</th>\n",
       "      <td>Yes</td>\n",
       "      <td>100.0</td>\n",
       "      <td>0.0</td>\n",
       "      <td>20.0</td>\n",
       "      <td>80.0</td>\n",
       "      <td>44.0</td>\n",
       "      <td>58.0</td>\n",
       "      <td>0.00</td>\n",
       "      <td>0.0</td>\n",
       "      <td>11.0</td>\n",
       "      <td>...</td>\n",
       "      <td>4.26</td>\n",
       "      <td>0.00</td>\n",
       "      <td>30.85</td>\n",
       "      <td>Yes</td>\n",
       "      <td>No</td>\n",
       "      <td>Yes</td>\n",
       "      <td>Yes(OPV)</td>\n",
       "      <td>Yes</td>\n",
       "      <td>Yes</td>\n",
       "      <td>Yes</td>\n",
       "    </tr>\n",
       "    <tr>\n",
       "      <th>193</th>\n",
       "      <td>Yes</td>\n",
       "      <td>100.0</td>\n",
       "      <td>0.0</td>\n",
       "      <td>6.0</td>\n",
       "      <td>94.0</td>\n",
       "      <td>21.0</td>\n",
       "      <td>41.0</td>\n",
       "      <td>0.00</td>\n",
       "      <td>0.0</td>\n",
       "      <td>27.0</td>\n",
       "      <td>...</td>\n",
       "      <td>5.32</td>\n",
       "      <td>6.38</td>\n",
       "      <td>11.36</td>\n",
       "      <td>Yes</td>\n",
       "      <td>No</td>\n",
       "      <td>Yes</td>\n",
       "      <td>No</td>\n",
       "      <td>Yes</td>\n",
       "      <td>Yes</td>\n",
       "      <td>Yes</td>\n",
       "    </tr>\n",
       "  </tbody>\n",
       "</table>\n",
       "<p>194 rows × 31 columns</p>\n",
       "</div>"
      ],
      "text/plain": [
       "     myp  dis_plan  dtp3_lt_50  dtp3_50_79  dtp3_gt_80  dtp3_gt_95  \\\n",
       "0    Yes       0.0         6.0        26.0        68.0        35.0   \n",
       "1    Yes     100.0         0.0         0.0       100.0        97.0   \n",
       "2     No     100.0         0.0         0.0       100.0         0.0   \n",
       "3    Yes     100.0         NaN         NaN         NaN         NaN   \n",
       "4    Yes     100.0        12.0        23.0        65.0        38.0   \n",
       "..   ...       ...         ...         ...         ...         ...   \n",
       "189   No       0.0        25.0        41.0        34.0        20.0   \n",
       "190  Yes     100.0         0.0        74.0        25.0         5.0   \n",
       "191  Yes     100.0        12.0        35.0        54.0        20.0   \n",
       "192  Yes     100.0         0.0        20.0        80.0        44.0   \n",
       "193  Yes     100.0         0.0         6.0        94.0        21.0   \n",
       "\n",
       "     dtp3_gt_90  no_dtp3_cov  mcv1_lt_50  mcv1_50_79  ...  dtp1_dtp3_drop  \\\n",
       "0          47.0         0.00         6.0        34.0  ...           13.00   \n",
       "1         100.0         0.00         0.0         3.0  ...            0.10   \n",
       "2         100.0        82.42         0.0        35.0  ...            3.06   \n",
       "3           NaN       100.00         NaN         NaN  ...            0.47   \n",
       "4          49.0          NaN        14.0        38.0  ...           13.80   \n",
       "..          ...          ...         ...         ...  ...             ...   \n",
       "189        25.0         0.00        12.0        39.0  ...           28.57   \n",
       "190         8.0         0.00         0.0         2.0  ...            4.87   \n",
       "191        28.0         0.00        14.0        50.0  ...            8.05   \n",
       "192        58.0         0.00         0.0        11.0  ...            4.26   \n",
       "193        41.0         0.00         0.0        27.0  ...            5.32   \n",
       "\n",
       "     dtp1_mcv1_drop  mcv1_mcv2_drop  vitamin_a_deficiency  \\\n",
       "0             18.00           26.83                   Yes   \n",
       "1              4.85             NaN                    No   \n",
       "2             18.37            3.75                    No   \n",
       "3              0.78            4.25                    No   \n",
       "4             18.64           55.70                    No   \n",
       "..              ...             ...                   ...   \n",
       "189           11.90           47.30                    No   \n",
       "190             NaN            7.02                   Yes   \n",
       "191           17.24           25.00                   Yes   \n",
       "192            0.00           30.85                   Yes   \n",
       "193            6.38           11.36                   Yes   \n",
       "\n",
       "     high_bacterial_rate  hepb       ipv  mmr  pcv  rotavirus  \n",
       "0                     No   Yes  Yes(OPV)  Yes  Yes        Yes  \n",
       "1                     No   Yes    Yes(S)  Yes  Yes         No  \n",
       "2                     No   Yes    Yes(S)  Yes  Yes         No  \n",
       "3                     No   Yes       Yes  Yes  Yes         No  \n",
       "4                    Yes   Yes  Yes(OPV)  Yes  Yes        Yes  \n",
       "..                   ...   ...       ...  ...  ...        ...  \n",
       "189                  Yes   Yes    Yes(S)  Yes  Yes        Yes  \n",
       "190                   No   Yes  Yes(OPV)  Yes   No         No  \n",
       "191                   No   Yes  Yes(OPV)  Yes  Yes        Yes  \n",
       "192                   No   Yes  Yes(OPV)  Yes  Yes        Yes  \n",
       "193                   No   Yes        No  Yes  Yes        Yes  \n",
       "\n",
       "[194 rows x 31 columns]"
      ]
     },
     "execution_count": 3,
     "metadata": {},
     "output_type": "execute_result"
    }
   ],
   "source": [
    "dataframe"
   ]
  },
  {
   "cell_type": "code",
   "execution_count": 4,
   "metadata": {
    "scrolled": false
   },
   "outputs": [
    {
     "data": {
      "text/plain": [
       "myp                      4\n",
       "dis_plan                47\n",
       "dtp3_lt_50              18\n",
       "dtp3_50_79              18\n",
       "dtp3_gt_80              18\n",
       "dtp3_gt_95              18\n",
       "dtp3_gt_90              18\n",
       "no_dtp3_cov             17\n",
       "mcv1_lt_50              26\n",
       "mcv1_50_79              26\n",
       "mcv1_gt_80              26\n",
       "mcv1_gt_95              26\n",
       "mcv1_gt_90              27\n",
       "no_mcv1_cov             16\n",
       "mcv2_lt_50              82\n",
       "mcv2_50_79              75\n",
       "mcv2_gt_80              55\n",
       "mcv2_gt_95              56\n",
       "mcv2_gt_90              55\n",
       "no_mcv2_cov             16\n",
       "dtp_drop_gt_10          54\n",
       "dtp1_dtp3_drop          25\n",
       "dtp1_mcv1_drop          42\n",
       "mcv1_mcv2_drop          58\n",
       "vitamin_a_deficiency     0\n",
       "high_bacterial_rate      0\n",
       "hepb                     0\n",
       "ipv                      0\n",
       "mmr                      0\n",
       "pcv                      0\n",
       "rotavirus                0\n",
       "dtype: int64"
      ]
     },
     "execution_count": 4,
     "metadata": {},
     "output_type": "execute_result"
    }
   ],
   "source": [
    "dataframe.isnull().sum()"
   ]
  },
  {
   "cell_type": "code",
   "execution_count": 5,
   "metadata": {
    "scrolled": false
   },
   "outputs": [
    {
     "data": {
      "text/plain": [
       "<matplotlib.axes._subplots.AxesSubplot at 0x7f07e23b9110>"
      ]
     },
     "execution_count": 5,
     "metadata": {},
     "output_type": "execute_result"
    },
    {
     "data": {
      "image/png": "[encoded data removed]",
      "text/plain": [
       "<Figure size 432x288 with 1 Axes>"
      ]
     },
     "metadata": {
      "needs_background": "light"
     },
     "output_type": "display_data"
    }
   ],
   "source": [
    "sns.heatmap(dataframe.isnull(), cbar=False)"
   ]
  },
  {
   "cell_type": "code",
   "execution_count": 6,
   "metadata": {},
   "outputs": [
    {
     "name": "stdout",
     "output_type": "stream",
     "text": [
      "<class 'pandas.core.frame.DataFrame'>\n",
      "RangeIndex: 194 entries, 0 to 193\n",
      "Data columns (total 31 columns):\n",
      " #   Column                Non-Null Count  Dtype  \n",
      "---  ------                --------------  -----  \n",
      " 0   myp                   190 non-null    object \n",
      " 1   dis_plan              147 non-null    float64\n",
      " 2   dtp3_lt_50            176 non-null    float64\n",
      " 3   dtp3_50_79            176 non-null    float64\n",
      " 4   dtp3_gt_80            176 non-null    float64\n",
      " 5   dtp3_gt_95            176 non-null    float64\n",
      " 6   dtp3_gt_90            176 non-null    float64\n",
      " 7   no_dtp3_cov           177 non-null    float64\n",
      " 8   mcv1_lt_50            168 non-null    float64\n",
      " 9   mcv1_50_79            168 non-null    float64\n",
      " 10  mcv1_gt_80            168 non-null    float64\n",
      " 11  mcv1_gt_95            168 non-null    float64\n",
      " 12  mcv1_gt_90            167 non-null    float64\n",
      " 13  no_mcv1_cov           178 non-null    float64\n",
      " 14  mcv2_lt_50            112 non-null    float64\n",
      " 15  mcv2_50_79            119 non-null    float64\n",
      " 16  mcv2_gt_80            139 non-null    float64\n",
      " 17  mcv2_gt_95            138 non-null    float64\n",
      " 18  mcv2_gt_90            139 non-null    float64\n",
      " 19  no_mcv2_cov           178 non-null    float64\n",
      " 20  dtp_drop_gt_10        140 non-null    float64\n",
      " 21  dtp1_dtp3_drop        169 non-null    float64\n",
      " 22  dtp1_mcv1_drop        152 non-null    float64\n",
      " 23  mcv1_mcv2_drop        136 non-null    float64\n",
      " 24  vitamin_a_deficiency  194 non-null    object \n",
      " 25  high_bacterial_rate   194 non-null    object \n",
      " 26  hepb                  194 non-null    object \n",
      " 27  ipv                   194 non-null    object \n",
      " 28  mmr                   194 non-null    object \n",
      " 29  pcv                   194 non-null    object \n",
      " 30  rotavirus             194 non-null    object \n",
      "dtypes: float64(23), object(8)\n",
      "memory usage: 47.1+ KB\n"
     ]
    }
   ],
   "source": [
    "dataframe.info()"
   ]
  },
  {
   "cell_type": "code",
   "execution_count": 7,
   "metadata": {},
   "outputs": [],
   "source": [
    "categorical_feature_mask = dataframe.dtypes == object\n",
    "numeric_feature_mask = dataframe.dtypes != object\n",
    "\n",
    "categorical_cols = dataframe.columns[categorical_feature_mask].tolist()\n",
    "\n",
    "numeric_cols = dataframe.columns[numeric_feature_mask].tolist()"
   ]
  },
  {
   "cell_type": "code",
   "execution_count": 8,
   "metadata": {},
   "outputs": [
    {
     "data": {
      "text/plain": [
       "array([[  0.  ,   6.  ,  26.  , ...,  13.  ,  18.  ,  26.83],\n",
       "       [100.  ,   0.  ,   0.  , ...,   0.1 ,   4.85,   0.  ],\n",
       "       [100.  ,   0.  ,   0.  , ...,   3.06,  18.37,   3.75],\n",
       "       ...,\n",
       "       [100.  ,  12.  ,  35.  , ...,   8.05,  17.24,  25.  ],\n",
       "       [100.  ,   0.  ,  20.  , ...,   4.26,   0.  ,  30.85],\n",
       "       [100.  ,   0.  ,   6.  , ...,   5.32,   6.38,  11.36]])"
      ]
     },
     "execution_count": 8,
     "metadata": {},
     "output_type": "execute_result"
    }
   ],
   "source": [
    "import numpy as np\n",
    "from sklearn.impute import SimpleImputer\n",
    "\n",
    "imputer = SimpleImputer(missing_values=np.nan, strategy='most_frequent')\n",
    "imputer = imputer.fit(dataframe[numeric_cols])\n",
    "imputed_data = imputer.transform(dataframe[numeric_cols])\n",
    "imputed_data"
   ]
  },
  {
   "cell_type": "code",
   "execution_count": 9,
   "metadata": {},
   "outputs": [],
   "source": [
    "dataframe[numeric_cols] = imputed_data"
   ]
  },
  {
   "cell_type": "code",
   "execution_count": 10,
   "metadata": {},
   "outputs": [
    {
     "data": {
      "text/plain": [
       "(194, 31)"
      ]
     },
     "execution_count": 10,
     "metadata": {},
     "output_type": "execute_result"
    }
   ],
   "source": [
    "dataframe.shape"
   ]
  },
  {
   "cell_type": "code",
   "execution_count": 11,
   "metadata": {},
   "outputs": [
    {
     "data": {
      "text/plain": [
       "myp                     4\n",
       "dis_plan                0\n",
       "dtp3_lt_50              0\n",
       "dtp3_50_79              0\n",
       "dtp3_gt_80              0\n",
       "dtp3_gt_95              0\n",
       "dtp3_gt_90              0\n",
       "no_dtp3_cov             0\n",
       "mcv1_lt_50              0\n",
       "mcv1_50_79              0\n",
       "mcv1_gt_80              0\n",
       "mcv1_gt_95              0\n",
       "mcv1_gt_90              0\n",
       "no_mcv1_cov             0\n",
       "mcv2_lt_50              0\n",
       "mcv2_50_79              0\n",
       "mcv2_gt_80              0\n",
       "mcv2_gt_95              0\n",
       "mcv2_gt_90              0\n",
       "no_mcv2_cov             0\n",
       "dtp_drop_gt_10          0\n",
       "dtp1_dtp3_drop          0\n",
       "dtp1_mcv1_drop          0\n",
       "mcv1_mcv2_drop          0\n",
       "vitamin_a_deficiency    0\n",
       "high_bacterial_rate     0\n",
       "hepb                    0\n",
       "ipv                     0\n",
       "mmr                     0\n",
       "pcv                     0\n",
       "rotavirus               0\n",
       "dtype: int64"
      ]
     },
     "execution_count": 11,
     "metadata": {},
     "output_type": "execute_result"
    }
   ],
   "source": [
    "dataframe.isnull().sum()"
   ]
  },
  {
   "cell_type": "code",
   "execution_count": 12,
   "metadata": {},
   "outputs": [
    {
     "data": {
      "text/plain": [
       "<matplotlib.axes._subplots.AxesSubplot at 0x7f07dc344510>"
      ]
     },
     "execution_count": 12,
     "metadata": {},
     "output_type": "execute_result"
    },
    {
     "data": {
      "image/png": "[encoded data removed]",
      "text/plain": [
       "<Figure size 432x288 with 1 Axes>"
      ]
     },
     "metadata": {
      "needs_background": "light"
     },
     "output_type": "display_data"
    }
   ],
   "source": [
    "sns.heatmap(dataframe.isnull(), cbar=False)"
   ]
  },
  {
   "cell_type": "code",
   "execution_count": 13,
   "metadata": {},
   "outputs": [],
   "source": [
    "dataframe = dataframe.dropna()"
   ]
  },
  {
   "cell_type": "code",
   "execution_count": 14,
   "metadata": {},
   "outputs": [
    {
     "data": {
      "text/plain": [
       "<matplotlib.axes._subplots.AxesSubplot at 0x7f07dc02b1d0>"
      ]
     },
     "execution_count": 14,
     "metadata": {},
     "output_type": "execute_result"
    },
    {
     "data": {
      "image/png": "[encoded data removed]",
      "text/plain": [
       "<Figure size 432x288 with 1 Axes>"
      ]
     },
     "metadata": {
      "needs_background": "light"
     },
     "output_type": "display_data"
    }
   ],
   "source": [
    "sns.heatmap(dataframe.isnull(), cbar=False)"
   ]
  },
  {
   "cell_type": "code",
   "execution_count": 15,
   "metadata": {
    "scrolled": true
   },
   "outputs": [
    {
     "data": {
      "text/plain": [
       "(190, 31)"
      ]
     },
     "execution_count": 15,
     "metadata": {},
     "output_type": "execute_result"
    }
   ],
   "source": [
    "dataframe.shape"
   ]
  },
  {
   "cell_type": "code",
   "execution_count": 16,
   "metadata": {
    "scrolled": true
   },
   "outputs": [
    {
     "data": {
      "text/plain": [
       "['myp',\n",
       " 'vitamin_a_deficiency',\n",
       " 'high_bacterial_rate',\n",
       " 'hepb',\n",
       " 'ipv',\n",
       " 'mmr',\n",
       " 'pcv',\n",
       " 'rotavirus']"
      ]
     },
     "execution_count": 16,
     "metadata": {},
     "output_type": "execute_result"
    }
   ],
   "source": [
    "categorical_cols"
   ]
  },
  {
   "cell_type": "code",
   "execution_count": 17,
   "metadata": {
    "scrolled": false
   },
   "outputs": [
    {
     "name": "stderr",
     "output_type": "stream",
     "text": [
      "/home/amey/projects/python/django/bonnyapp/env3/lib/python3.7/site-packages/pandas/core/generic.py:5303: SettingWithCopyWarning: \n",
      "A value is trying to be set on a copy of a slice from a DataFrame.\n",
      "Try using .loc[row_indexer,col_indexer] = value instead\n",
      "\n",
      "See the caveats in the documentation: https://pandas.pydata.org/pandas-docs/stable/user_guide/indexing.html#returning-a-view-versus-a-copy\n",
      "  self[name] = value\n"
     ]
    },
    {
     "data": {
      "text/html": [
       "<div>\n",
       "<style scoped>\n",
       "    .dataframe tbody tr th:only-of-type {\n",
       "        vertical-align: middle;\n",
       "    }\n",
       "\n",
       "    .dataframe tbody tr th {\n",
       "        vertical-align: top;\n",
       "    }\n",
       "\n",
       "    .dataframe thead th {\n",
       "        text-align: right;\n",
       "    }\n",
       "</style>\n",
       "<table border=\"1\" class=\"dataframe\">\n",
       "  <thead>\n",
       "    <tr style=\"text-align: right;\">\n",
       "      <th></th>\n",
       "      <th>myp</th>\n",
       "      <th>dis_plan</th>\n",
       "      <th>dtp3_lt_50</th>\n",
       "      <th>dtp3_50_79</th>\n",
       "      <th>dtp3_gt_80</th>\n",
       "      <th>dtp3_gt_95</th>\n",
       "      <th>dtp3_gt_90</th>\n",
       "      <th>no_dtp3_cov</th>\n",
       "      <th>mcv1_lt_50</th>\n",
       "      <th>mcv1_50_79</th>\n",
       "      <th>...</th>\n",
       "      <th>dtp1_dtp3_drop</th>\n",
       "      <th>dtp1_mcv1_drop</th>\n",
       "      <th>mcv1_mcv2_drop</th>\n",
       "      <th>vitamin_a_deficiency</th>\n",
       "      <th>high_bacterial_rate</th>\n",
       "      <th>hepb</th>\n",
       "      <th>ipv</th>\n",
       "      <th>mmr</th>\n",
       "      <th>pcv</th>\n",
       "      <th>rotavirus</th>\n",
       "    </tr>\n",
       "  </thead>\n",
       "  <tbody>\n",
       "    <tr>\n",
       "      <th>0</th>\n",
       "      <td>1</td>\n",
       "      <td>0.0</td>\n",
       "      <td>6.0</td>\n",
       "      <td>26.0</td>\n",
       "      <td>68.0</td>\n",
       "      <td>35.0</td>\n",
       "      <td>47.0</td>\n",
       "      <td>0.00</td>\n",
       "      <td>6.0</td>\n",
       "      <td>34.0</td>\n",
       "      <td>...</td>\n",
       "      <td>13.00</td>\n",
       "      <td>18.00</td>\n",
       "      <td>26.83</td>\n",
       "      <td>Yes</td>\n",
       "      <td>No</td>\n",
       "      <td>Yes</td>\n",
       "      <td>Yes(OPV)</td>\n",
       "      <td>Yes</td>\n",
       "      <td>Yes</td>\n",
       "      <td>Yes</td>\n",
       "    </tr>\n",
       "    <tr>\n",
       "      <th>1</th>\n",
       "      <td>1</td>\n",
       "      <td>100.0</td>\n",
       "      <td>0.0</td>\n",
       "      <td>0.0</td>\n",
       "      <td>100.0</td>\n",
       "      <td>97.0</td>\n",
       "      <td>100.0</td>\n",
       "      <td>0.00</td>\n",
       "      <td>0.0</td>\n",
       "      <td>3.0</td>\n",
       "      <td>...</td>\n",
       "      <td>0.10</td>\n",
       "      <td>4.85</td>\n",
       "      <td>0.00</td>\n",
       "      <td>No</td>\n",
       "      <td>No</td>\n",
       "      <td>Yes</td>\n",
       "      <td>Yes(S)</td>\n",
       "      <td>Yes</td>\n",
       "      <td>Yes</td>\n",
       "      <td>No</td>\n",
       "    </tr>\n",
       "    <tr>\n",
       "      <th>2</th>\n",
       "      <td>0</td>\n",
       "      <td>100.0</td>\n",
       "      <td>0.0</td>\n",
       "      <td>0.0</td>\n",
       "      <td>100.0</td>\n",
       "      <td>0.0</td>\n",
       "      <td>100.0</td>\n",
       "      <td>82.42</td>\n",
       "      <td>0.0</td>\n",
       "      <td>35.0</td>\n",
       "      <td>...</td>\n",
       "      <td>3.06</td>\n",
       "      <td>18.37</td>\n",
       "      <td>3.75</td>\n",
       "      <td>No</td>\n",
       "      <td>No</td>\n",
       "      <td>Yes</td>\n",
       "      <td>Yes(S)</td>\n",
       "      <td>Yes</td>\n",
       "      <td>Yes</td>\n",
       "      <td>No</td>\n",
       "    </tr>\n",
       "    <tr>\n",
       "      <th>3</th>\n",
       "      <td>1</td>\n",
       "      <td>100.0</td>\n",
       "      <td>0.0</td>\n",
       "      <td>0.0</td>\n",
       "      <td>100.0</td>\n",
       "      <td>100.0</td>\n",
       "      <td>100.0</td>\n",
       "      <td>100.00</td>\n",
       "      <td>0.0</td>\n",
       "      <td>0.0</td>\n",
       "      <td>...</td>\n",
       "      <td>0.47</td>\n",
       "      <td>0.78</td>\n",
       "      <td>4.25</td>\n",
       "      <td>No</td>\n",
       "      <td>No</td>\n",
       "      <td>Yes</td>\n",
       "      <td>Yes</td>\n",
       "      <td>Yes</td>\n",
       "      <td>Yes</td>\n",
       "      <td>No</td>\n",
       "    </tr>\n",
       "    <tr>\n",
       "      <th>4</th>\n",
       "      <td>1</td>\n",
       "      <td>100.0</td>\n",
       "      <td>12.0</td>\n",
       "      <td>23.0</td>\n",
       "      <td>65.0</td>\n",
       "      <td>38.0</td>\n",
       "      <td>49.0</td>\n",
       "      <td>0.00</td>\n",
       "      <td>14.0</td>\n",
       "      <td>38.0</td>\n",
       "      <td>...</td>\n",
       "      <td>13.80</td>\n",
       "      <td>18.64</td>\n",
       "      <td>55.70</td>\n",
       "      <td>No</td>\n",
       "      <td>Yes</td>\n",
       "      <td>Yes</td>\n",
       "      <td>Yes(OPV)</td>\n",
       "      <td>Yes</td>\n",
       "      <td>Yes</td>\n",
       "      <td>Yes</td>\n",
       "    </tr>\n",
       "  </tbody>\n",
       "</table>\n",
       "<p>5 rows × 31 columns</p>\n",
       "</div>"
      ],
      "text/plain": [
       "   myp  dis_plan  dtp3_lt_50  dtp3_50_79  dtp3_gt_80  dtp3_gt_95  dtp3_gt_90  \\\n",
       "0    1       0.0         6.0        26.0        68.0        35.0        47.0   \n",
       "1    1     100.0         0.0         0.0       100.0        97.0       100.0   \n",
       "2    0     100.0         0.0         0.0       100.0         0.0       100.0   \n",
       "3    1     100.0         0.0         0.0       100.0       100.0       100.0   \n",
       "4    1     100.0        12.0        23.0        65.0        38.0        49.0   \n",
       "\n",
       "   no_dtp3_cov  mcv1_lt_50  mcv1_50_79  ...  dtp1_dtp3_drop  dtp1_mcv1_drop  \\\n",
       "0         0.00         6.0        34.0  ...           13.00           18.00   \n",
       "1         0.00         0.0         3.0  ...            0.10            4.85   \n",
       "2        82.42         0.0        35.0  ...            3.06           18.37   \n",
       "3       100.00         0.0         0.0  ...            0.47            0.78   \n",
       "4         0.00        14.0        38.0  ...           13.80           18.64   \n",
       "\n",
       "   mcv1_mcv2_drop  vitamin_a_deficiency  high_bacterial_rate  hepb       ipv  \\\n",
       "0           26.83                   Yes                   No   Yes  Yes(OPV)   \n",
       "1            0.00                    No                   No   Yes    Yes(S)   \n",
       "2            3.75                    No                   No   Yes    Yes(S)   \n",
       "3            4.25                    No                   No   Yes       Yes   \n",
       "4           55.70                    No                  Yes   Yes  Yes(OPV)   \n",
       "\n",
       "   mmr  pcv  rotavirus  \n",
       "0  Yes  Yes        Yes  \n",
       "1  Yes  Yes         No  \n",
       "2  Yes  Yes         No  \n",
       "3  Yes  Yes         No  \n",
       "4  Yes  Yes        Yes  \n",
       "\n",
       "[5 rows x 31 columns]"
      ]
     },
     "execution_count": 17,
     "metadata": {},
     "output_type": "execute_result"
    }
   ],
   "source": [
    "yes_no_bool_mapper = {'Yes': 1, 'No': 0}\n",
    "dataframe.myp = dataframe.myp.map(yes_no_bool_mapper)\n",
    "dataframe.head()"
   ]
  },
  {
   "cell_type": "code",
   "execution_count": 18,
   "metadata": {},
   "outputs": [
    {
     "data": {
      "text/plain": [
       "31"
      ]
     },
     "execution_count": 18,
     "metadata": {},
     "output_type": "execute_result"
    }
   ],
   "source": [
    "numeric_cols.append('myp')\n",
    "categorical_cols.remove('myp')\n",
    "len(numeric_cols) + len(categorical_cols)"
   ]
  },
  {
   "cell_type": "code",
   "execution_count": 19,
   "metadata": {
    "scrolled": false
   },
   "outputs": [
    {
     "data": {
      "text/plain": [
       "No     134\n",
       "Yes     56\n",
       "Name: vitamin_a_deficiency, dtype: int64"
      ]
     },
     "execution_count": 19,
     "metadata": {},
     "output_type": "execute_result"
    }
   ],
   "source": [
    "dataframe['vitamin_a_deficiency'].value_counts()"
   ]
  },
  {
   "cell_type": "code",
   "execution_count": 20,
   "metadata": {},
   "outputs": [
    {
     "data": {
      "text/plain": [
       "No     149\n",
       "Yes     41\n",
       "Name: high_bacterial_rate, dtype: int64"
      ]
     },
     "execution_count": 20,
     "metadata": {},
     "output_type": "execute_result"
    }
   ],
   "source": [
    "dataframe['high_bacterial_rate'].value_counts()"
   ]
  },
  {
   "cell_type": "code",
   "execution_count": 21,
   "metadata": {},
   "outputs": [
    {
     "data": {
      "text/plain": [
       "Yes       93\n",
       "No        93\n",
       "Yes(P)     4\n",
       "Name: rotavirus, dtype: int64"
      ]
     },
     "execution_count": 21,
     "metadata": {},
     "output_type": "execute_result"
    }
   ],
   "source": [
    "dataframe['rotavirus'].value_counts()"
   ]
  },
  {
   "cell_type": "code",
   "execution_count": 22,
   "metadata": {},
   "outputs": [
    {
     "data": {
      "text/plain": [
       "Yes(OPV)    86\n",
       "Yes(S)      55\n",
       "Yes         47\n",
       "No           2\n",
       "Name: ipv, dtype: int64"
      ]
     },
     "execution_count": 22,
     "metadata": {},
     "output_type": "execute_result"
    }
   ],
   "source": [
    "dataframe['ipv'].value_counts()"
   ]
  },
  {
   "cell_type": "code",
   "execution_count": 23,
   "metadata": {
    "scrolled": true
   },
   "outputs": [
    {
     "data": {
      "text/plain": [
       "Yes       136\n",
       "No         44\n",
       "Yes(R)      6\n",
       "Yes(P)      4\n",
       "Name: pcv, dtype: int64"
      ]
     },
     "execution_count": 23,
     "metadata": {},
     "output_type": "execute_result"
    }
   ],
   "source": [
    "dataframe['pcv'].value_counts()"
   ]
  },
  {
   "cell_type": "code",
   "execution_count": 24,
   "metadata": {},
   "outputs": [
    {
     "name": "stderr",
     "output_type": "stream",
     "text": [
      "/home/amey/projects/python/django/bonnyapp/env3/lib/python3.7/site-packages/ipykernel_launcher.py:5: SettingWithCopyWarning: \n",
      "A value is trying to be set on a copy of a slice from a DataFrame.\n",
      "Try using .loc[row_indexer,col_indexer] = value instead\n",
      "\n",
      "See the caveats in the documentation: https://pandas.pydata.org/pandas-docs/stable/user_guide/indexing.html#returning-a-view-versus-a-copy\n",
      "  \"\"\"\n",
      "/home/amey/projects/python/django/bonnyapp/env3/lib/python3.7/site-packages/ipykernel_launcher.py:7: SettingWithCopyWarning: \n",
      "A value is trying to be set on a copy of a slice from a DataFrame.\n",
      "Try using .loc[row_indexer,col_indexer] = value instead\n",
      "\n",
      "See the caveats in the documentation: https://pandas.pydata.org/pandas-docs/stable/user_guide/indexing.html#returning-a-view-versus-a-copy\n",
      "  import sys\n",
      "/home/amey/projects/python/django/bonnyapp/env3/lib/python3.7/site-packages/ipykernel_launcher.py:9: SettingWithCopyWarning: \n",
      "A value is trying to be set on a copy of a slice from a DataFrame.\n",
      "Try using .loc[row_indexer,col_indexer] = value instead\n",
      "\n",
      "See the caveats in the documentation: https://pandas.pydata.org/pandas-docs/stable/user_guide/indexing.html#returning-a-view-versus-a-copy\n",
      "  if __name__ == '__main__':\n"
     ]
    },
    {
     "data": {
      "text/plain": [
       "Yes    97\n",
       "No     93\n",
       "Name: rotavirus, dtype: int64"
      ]
     },
     "execution_count": 24,
     "metadata": {},
     "output_type": "execute_result"
    }
   ],
   "source": [
    "def replace_ipv_opv_to_yes(x):\n",
    "    if x == 'Yes(R)' or x == 'Yes(P)' or x == 'Yes(S)' or x == 'Yes(OPV)':\n",
    "        return 'Yes'\n",
    "    return x\n",
    "dataframe['pcv'] = dataframe.pcv.apply(lambda x: replace_ipv_opv_to_yes(x))\n",
    "dataframe['pcv'].value_counts()\n",
    "dataframe['ipv'] = dataframe.ipv.apply(lambda x: replace_ipv_opv_to_yes(x))\n",
    "dataframe['ipv'].value_counts()\n",
    "dataframe['rotavirus'] = dataframe.rotavirus.apply(lambda x: replace_ipv_opv_to_yes(x))\n",
    "dataframe['rotavirus'].value_counts()"
   ]
  },
  {
   "cell_type": "code",
   "execution_count": 25,
   "metadata": {},
   "outputs": [
    {
     "data": {
      "text/html": [
       "<div>\n",
       "<style scoped>\n",
       "    .dataframe tbody tr th:only-of-type {\n",
       "        vertical-align: middle;\n",
       "    }\n",
       "\n",
       "    .dataframe tbody tr th {\n",
       "        vertical-align: top;\n",
       "    }\n",
       "\n",
       "    .dataframe thead th {\n",
       "        text-align: right;\n",
       "    }\n",
       "</style>\n",
       "<table border=\"1\" class=\"dataframe\">\n",
       "  <thead>\n",
       "    <tr style=\"text-align: right;\">\n",
       "      <th></th>\n",
       "      <th>myp</th>\n",
       "      <th>dis_plan</th>\n",
       "      <th>dtp3_lt_50</th>\n",
       "      <th>dtp3_50_79</th>\n",
       "      <th>dtp3_gt_80</th>\n",
       "      <th>dtp3_gt_95</th>\n",
       "      <th>dtp3_gt_90</th>\n",
       "      <th>no_dtp3_cov</th>\n",
       "      <th>mcv1_lt_50</th>\n",
       "      <th>mcv1_50_79</th>\n",
       "      <th>...</th>\n",
       "      <th>dtp1_dtp3_drop</th>\n",
       "      <th>dtp1_mcv1_drop</th>\n",
       "      <th>mcv1_mcv2_drop</th>\n",
       "      <th>vitamin_a_deficiency</th>\n",
       "      <th>high_bacterial_rate</th>\n",
       "      <th>hepb</th>\n",
       "      <th>ipv</th>\n",
       "      <th>mmr</th>\n",
       "      <th>pcv</th>\n",
       "      <th>rotavirus</th>\n",
       "    </tr>\n",
       "  </thead>\n",
       "  <tbody>\n",
       "    <tr>\n",
       "      <th>0</th>\n",
       "      <td>1</td>\n",
       "      <td>0.0</td>\n",
       "      <td>6.0</td>\n",
       "      <td>26.0</td>\n",
       "      <td>68.0</td>\n",
       "      <td>35.0</td>\n",
       "      <td>47.0</td>\n",
       "      <td>0.00</td>\n",
       "      <td>6.0</td>\n",
       "      <td>34.0</td>\n",
       "      <td>...</td>\n",
       "      <td>13.00</td>\n",
       "      <td>18.00</td>\n",
       "      <td>26.83</td>\n",
       "      <td>Yes</td>\n",
       "      <td>No</td>\n",
       "      <td>Yes</td>\n",
       "      <td>Yes</td>\n",
       "      <td>Yes</td>\n",
       "      <td>Yes</td>\n",
       "      <td>Yes</td>\n",
       "    </tr>\n",
       "    <tr>\n",
       "      <th>1</th>\n",
       "      <td>1</td>\n",
       "      <td>100.0</td>\n",
       "      <td>0.0</td>\n",
       "      <td>0.0</td>\n",
       "      <td>100.0</td>\n",
       "      <td>97.0</td>\n",
       "      <td>100.0</td>\n",
       "      <td>0.00</td>\n",
       "      <td>0.0</td>\n",
       "      <td>3.0</td>\n",
       "      <td>...</td>\n",
       "      <td>0.10</td>\n",
       "      <td>4.85</td>\n",
       "      <td>0.00</td>\n",
       "      <td>No</td>\n",
       "      <td>No</td>\n",
       "      <td>Yes</td>\n",
       "      <td>Yes</td>\n",
       "      <td>Yes</td>\n",
       "      <td>Yes</td>\n",
       "      <td>No</td>\n",
       "    </tr>\n",
       "    <tr>\n",
       "      <th>2</th>\n",
       "      <td>0</td>\n",
       "      <td>100.0</td>\n",
       "      <td>0.0</td>\n",
       "      <td>0.0</td>\n",
       "      <td>100.0</td>\n",
       "      <td>0.0</td>\n",
       "      <td>100.0</td>\n",
       "      <td>82.42</td>\n",
       "      <td>0.0</td>\n",
       "      <td>35.0</td>\n",
       "      <td>...</td>\n",
       "      <td>3.06</td>\n",
       "      <td>18.37</td>\n",
       "      <td>3.75</td>\n",
       "      <td>No</td>\n",
       "      <td>No</td>\n",
       "      <td>Yes</td>\n",
       "      <td>Yes</td>\n",
       "      <td>Yes</td>\n",
       "      <td>Yes</td>\n",
       "      <td>No</td>\n",
       "    </tr>\n",
       "    <tr>\n",
       "      <th>3</th>\n",
       "      <td>1</td>\n",
       "      <td>100.0</td>\n",
       "      <td>0.0</td>\n",
       "      <td>0.0</td>\n",
       "      <td>100.0</td>\n",
       "      <td>100.0</td>\n",
       "      <td>100.0</td>\n",
       "      <td>100.00</td>\n",
       "      <td>0.0</td>\n",
       "      <td>0.0</td>\n",
       "      <td>...</td>\n",
       "      <td>0.47</td>\n",
       "      <td>0.78</td>\n",
       "      <td>4.25</td>\n",
       "      <td>No</td>\n",
       "      <td>No</td>\n",
       "      <td>Yes</td>\n",
       "      <td>Yes</td>\n",
       "      <td>Yes</td>\n",
       "      <td>Yes</td>\n",
       "      <td>No</td>\n",
       "    </tr>\n",
       "    <tr>\n",
       "      <th>4</th>\n",
       "      <td>1</td>\n",
       "      <td>100.0</td>\n",
       "      <td>12.0</td>\n",
       "      <td>23.0</td>\n",
       "      <td>65.0</td>\n",
       "      <td>38.0</td>\n",
       "      <td>49.0</td>\n",
       "      <td>0.00</td>\n",
       "      <td>14.0</td>\n",
       "      <td>38.0</td>\n",
       "      <td>...</td>\n",
       "      <td>13.80</td>\n",
       "      <td>18.64</td>\n",
       "      <td>55.70</td>\n",
       "      <td>No</td>\n",
       "      <td>Yes</td>\n",
       "      <td>Yes</td>\n",
       "      <td>Yes</td>\n",
       "      <td>Yes</td>\n",
       "      <td>Yes</td>\n",
       "      <td>Yes</td>\n",
       "    </tr>\n",
       "  </tbody>\n",
       "</table>\n",
       "<p>5 rows × 31 columns</p>\n",
       "</div>"
      ],
      "text/plain": [
       "   myp  dis_plan  dtp3_lt_50  dtp3_50_79  dtp3_gt_80  dtp3_gt_95  dtp3_gt_90  \\\n",
       "0    1       0.0         6.0        26.0        68.0        35.0        47.0   \n",
       "1    1     100.0         0.0         0.0       100.0        97.0       100.0   \n",
       "2    0     100.0         0.0         0.0       100.0         0.0       100.0   \n",
       "3    1     100.0         0.0         0.0       100.0       100.0       100.0   \n",
       "4    1     100.0        12.0        23.0        65.0        38.0        49.0   \n",
       "\n",
       "   no_dtp3_cov  mcv1_lt_50  mcv1_50_79  ...  dtp1_dtp3_drop  dtp1_mcv1_drop  \\\n",
       "0         0.00         6.0        34.0  ...           13.00           18.00   \n",
       "1         0.00         0.0         3.0  ...            0.10            4.85   \n",
       "2        82.42         0.0        35.0  ...            3.06           18.37   \n",
       "3       100.00         0.0         0.0  ...            0.47            0.78   \n",
       "4         0.00        14.0        38.0  ...           13.80           18.64   \n",
       "\n",
       "   mcv1_mcv2_drop  vitamin_a_deficiency  high_bacterial_rate  hepb  ipv  mmr  \\\n",
       "0           26.83                   Yes                   No   Yes  Yes  Yes   \n",
       "1            0.00                    No                   No   Yes  Yes  Yes   \n",
       "2            3.75                    No                   No   Yes  Yes  Yes   \n",
       "3            4.25                    No                   No   Yes  Yes  Yes   \n",
       "4           55.70                    No                  Yes   Yes  Yes  Yes   \n",
       "\n",
       "   pcv  rotavirus  \n",
       "0  Yes        Yes  \n",
       "1  Yes         No  \n",
       "2  Yes         No  \n",
       "3  Yes         No  \n",
       "4  Yes        Yes  \n",
       "\n",
       "[5 rows x 31 columns]"
      ]
     },
     "execution_count": 25,
     "metadata": {},
     "output_type": "execute_result"
    }
   ],
   "source": [
    "dataframe.head()"
   ]
  },
  {
   "cell_type": "code",
   "execution_count": 26,
   "metadata": {},
   "outputs": [
    {
     "data": {
      "text/plain": [
       "myp                     False\n",
       "dis_plan                False\n",
       "dtp3_lt_50              False\n",
       "dtp3_50_79              False\n",
       "dtp3_gt_80              False\n",
       "dtp3_gt_95              False\n",
       "dtp3_gt_90              False\n",
       "no_dtp3_cov             False\n",
       "mcv1_lt_50              False\n",
       "mcv1_50_79              False\n",
       "mcv1_gt_80              False\n",
       "mcv1_gt_95              False\n",
       "mcv1_gt_90              False\n",
       "no_mcv1_cov             False\n",
       "mcv2_lt_50              False\n",
       "mcv2_50_79              False\n",
       "mcv2_gt_80              False\n",
       "mcv2_gt_95              False\n",
       "mcv2_gt_90              False\n",
       "no_mcv2_cov             False\n",
       "dtp_drop_gt_10          False\n",
       "dtp1_dtp3_drop          False\n",
       "dtp1_mcv1_drop          False\n",
       "mcv1_mcv2_drop          False\n",
       "vitamin_a_deficiency     True\n",
       "high_bacterial_rate      True\n",
       "hepb                    False\n",
       "ipv                      True\n",
       "mmr                      True\n",
       "pcv                      True\n",
       "rotavirus                True\n",
       "dtype: bool"
      ]
     },
     "execution_count": 26,
     "metadata": {},
     "output_type": "execute_result"
    }
   ],
   "source": [
    "dataframe.apply(lambda row: row.astype(str).str.contains('No').any(), axis=0)"
   ]
  },
  {
   "cell_type": "code",
   "execution_count": 27,
   "metadata": {},
   "outputs": [
    {
     "name": "stderr",
     "output_type": "stream",
     "text": [
      "/home/amey/projects/python/django/bonnyapp/env3/lib/python3.7/site-packages/ipykernel_launcher.py:5: SettingWithCopyWarning: \n",
      "A value is trying to be set on a copy of a slice from a DataFrame.\n",
      "Try using .loc[row_indexer,col_indexer] = value instead\n",
      "\n",
      "See the caveats in the documentation: https://pandas.pydata.org/pandas-docs/stable/user_guide/indexing.html#returning-a-view-versus-a-copy\n",
      "  \"\"\"\n",
      "/home/amey/projects/python/django/bonnyapp/env3/lib/python3.7/site-packages/ipykernel_launcher.py:6: SettingWithCopyWarning: \n",
      "A value is trying to be set on a copy of a slice from a DataFrame.\n",
      "Try using .loc[row_indexer,col_indexer] = value instead\n",
      "\n",
      "See the caveats in the documentation: https://pandas.pydata.org/pandas-docs/stable/user_guide/indexing.html#returning-a-view-versus-a-copy\n",
      "  \n",
      "/home/amey/projects/python/django/bonnyapp/env3/lib/python3.7/site-packages/ipykernel_launcher.py:7: SettingWithCopyWarning: \n",
      "A value is trying to be set on a copy of a slice from a DataFrame.\n",
      "Try using .loc[row_indexer,col_indexer] = value instead\n",
      "\n",
      "See the caveats in the documentation: https://pandas.pydata.org/pandas-docs/stable/user_guide/indexing.html#returning-a-view-versus-a-copy\n",
      "  import sys\n",
      "/home/amey/projects/python/django/bonnyapp/env3/lib/python3.7/site-packages/ipykernel_launcher.py:8: SettingWithCopyWarning: \n",
      "A value is trying to be set on a copy of a slice from a DataFrame.\n",
      "Try using .loc[row_indexer,col_indexer] = value instead\n",
      "\n",
      "See the caveats in the documentation: https://pandas.pydata.org/pandas-docs/stable/user_guide/indexing.html#returning-a-view-versus-a-copy\n",
      "  \n",
      "/home/amey/projects/python/django/bonnyapp/env3/lib/python3.7/site-packages/ipykernel_launcher.py:9: SettingWithCopyWarning: \n",
      "A value is trying to be set on a copy of a slice from a DataFrame.\n",
      "Try using .loc[row_indexer,col_indexer] = value instead\n",
      "\n",
      "See the caveats in the documentation: https://pandas.pydata.org/pandas-docs/stable/user_guide/indexing.html#returning-a-view-versus-a-copy\n",
      "  if __name__ == '__main__':\n",
      "/home/amey/projects/python/django/bonnyapp/env3/lib/python3.7/site-packages/ipykernel_launcher.py:10: SettingWithCopyWarning: \n",
      "A value is trying to be set on a copy of a slice from a DataFrame.\n",
      "Try using .loc[row_indexer,col_indexer] = value instead\n",
      "\n",
      "See the caveats in the documentation: https://pandas.pydata.org/pandas-docs/stable/user_guide/indexing.html#returning-a-view-versus-a-copy\n",
      "  # Remove the CWD from sys.path while we load stuff.\n",
      "/home/amey/projects/python/django/bonnyapp/env3/lib/python3.7/site-packages/ipykernel_launcher.py:11: SettingWithCopyWarning: \n",
      "A value is trying to be set on a copy of a slice from a DataFrame.\n",
      "Try using .loc[row_indexer,col_indexer] = value instead\n",
      "\n",
      "See the caveats in the documentation: https://pandas.pydata.org/pandas-docs/stable/user_guide/indexing.html#returning-a-view-versus-a-copy\n",
      "  # This is added back by InteractiveShellApp.init_path()\n"
     ]
    }
   ],
   "source": [
    "def replace_yes_and_no(x):\n",
    "    if x == 'Yes':\n",
    "        return True\n",
    "    return False\n",
    "dataframe['ipv'] = dataframe.ipv.apply(lambda x: replace_yes_and_no(x))\n",
    "dataframe['rotavirus'] = dataframe.rotavirus.apply(lambda x: replace_yes_and_no(x))\n",
    "dataframe['pcv'] = dataframe.pcv.apply(lambda x: replace_yes_and_no(x))\n",
    "dataframe['mmr'] = dataframe.mmr.apply(lambda x: replace_yes_and_no(x))\n",
    "dataframe['hepb'] = dataframe.hepb.apply(lambda x: replace_yes_and_no(x))\n",
    "dataframe['high_bacterial_rate'] = dataframe.high_bacterial_rate.apply(lambda x: replace_yes_and_no(x))\n",
    "dataframe['vitamin_a_deficiency'] = dataframe.vitamin_a_deficiency.apply(lambda x: replace_yes_and_no(x))"
   ]
  },
  {
   "cell_type": "code",
   "execution_count": 28,
   "metadata": {
    "scrolled": true
   },
   "outputs": [
    {
     "data": {
      "text/plain": [
       "Index(['myp', 'dis_plan', 'dtp3_lt_50', 'dtp3_50_79', 'dtp3_gt_80',\n",
       "       'dtp3_gt_95', 'dtp3_gt_90', 'no_dtp3_cov', 'mcv1_lt_50', 'mcv1_50_79',\n",
       "       'mcv1_gt_80', 'mcv1_gt_95', 'mcv1_gt_90', 'no_mcv1_cov', 'mcv2_lt_50',\n",
       "       'mcv2_50_79', 'mcv2_gt_80', 'mcv2_gt_95', 'mcv2_gt_90', 'no_mcv2_cov',\n",
       "       'dtp_drop_gt_10', 'dtp1_dtp3_drop', 'dtp1_mcv1_drop', 'mcv1_mcv2_drop',\n",
       "       'vitamin_a_deficiency', 'high_bacterial_rate', 'hepb', 'ipv', 'mmr',\n",
       "       'pcv', 'rotavirus'],\n",
       "      dtype='object')"
      ]
     },
     "execution_count": 28,
     "metadata": {},
     "output_type": "execute_result"
    }
   ],
   "source": [
    "dataframe.columns"
   ]
  },
  {
   "cell_type": "code",
   "execution_count": 29,
   "metadata": {
    "scrolled": true
   },
   "outputs": [
    {
     "data": {
      "text/html": [
       "<div>\n",
       "<style scoped>\n",
       "    .dataframe tbody tr th:only-of-type {\n",
       "        vertical-align: middle;\n",
       "    }\n",
       "\n",
       "    .dataframe tbody tr th {\n",
       "        vertical-align: top;\n",
       "    }\n",
       "\n",
       "    .dataframe thead th {\n",
       "        text-align: right;\n",
       "    }\n",
       "</style>\n",
       "<table border=\"1\" class=\"dataframe\">\n",
       "  <thead>\n",
       "    <tr style=\"text-align: right;\">\n",
       "      <th></th>\n",
       "      <th>myp</th>\n",
       "      <th>dis_plan</th>\n",
       "      <th>dtp3_lt_50</th>\n",
       "      <th>dtp3_50_79</th>\n",
       "      <th>dtp3_gt_80</th>\n",
       "      <th>dtp3_gt_95</th>\n",
       "      <th>dtp3_gt_90</th>\n",
       "      <th>no_dtp3_cov</th>\n",
       "      <th>mcv1_lt_50</th>\n",
       "      <th>mcv1_50_79</th>\n",
       "      <th>...</th>\n",
       "      <th>dtp1_dtp3_drop</th>\n",
       "      <th>dtp1_mcv1_drop</th>\n",
       "      <th>mcv1_mcv2_drop</th>\n",
       "      <th>vitamin_a_deficiency</th>\n",
       "      <th>high_bacterial_rate</th>\n",
       "      <th>hepb</th>\n",
       "      <th>ipv</th>\n",
       "      <th>mmr</th>\n",
       "      <th>pcv</th>\n",
       "      <th>rotavirus</th>\n",
       "    </tr>\n",
       "  </thead>\n",
       "  <tbody>\n",
       "    <tr>\n",
       "      <th>0</th>\n",
       "      <td>1</td>\n",
       "      <td>0.0</td>\n",
       "      <td>6.0</td>\n",
       "      <td>26.0</td>\n",
       "      <td>68.0</td>\n",
       "      <td>35.0</td>\n",
       "      <td>47.0</td>\n",
       "      <td>0.00</td>\n",
       "      <td>6.0</td>\n",
       "      <td>34.0</td>\n",
       "      <td>...</td>\n",
       "      <td>13.00</td>\n",
       "      <td>18.00</td>\n",
       "      <td>26.83</td>\n",
       "      <td>True</td>\n",
       "      <td>False</td>\n",
       "      <td>True</td>\n",
       "      <td>True</td>\n",
       "      <td>True</td>\n",
       "      <td>True</td>\n",
       "      <td>True</td>\n",
       "    </tr>\n",
       "    <tr>\n",
       "      <th>1</th>\n",
       "      <td>1</td>\n",
       "      <td>100.0</td>\n",
       "      <td>0.0</td>\n",
       "      <td>0.0</td>\n",
       "      <td>100.0</td>\n",
       "      <td>97.0</td>\n",
       "      <td>100.0</td>\n",
       "      <td>0.00</td>\n",
       "      <td>0.0</td>\n",
       "      <td>3.0</td>\n",
       "      <td>...</td>\n",
       "      <td>0.10</td>\n",
       "      <td>4.85</td>\n",
       "      <td>0.00</td>\n",
       "      <td>False</td>\n",
       "      <td>False</td>\n",
       "      <td>True</td>\n",
       "      <td>True</td>\n",
       "      <td>True</td>\n",
       "      <td>True</td>\n",
       "      <td>False</td>\n",
       "    </tr>\n",
       "    <tr>\n",
       "      <th>2</th>\n",
       "      <td>0</td>\n",
       "      <td>100.0</td>\n",
       "      <td>0.0</td>\n",
       "      <td>0.0</td>\n",
       "      <td>100.0</td>\n",
       "      <td>0.0</td>\n",
       "      <td>100.0</td>\n",
       "      <td>82.42</td>\n",
       "      <td>0.0</td>\n",
       "      <td>35.0</td>\n",
       "      <td>...</td>\n",
       "      <td>3.06</td>\n",
       "      <td>18.37</td>\n",
       "      <td>3.75</td>\n",
       "      <td>False</td>\n",
       "      <td>False</td>\n",
       "      <td>True</td>\n",
       "      <td>True</td>\n",
       "      <td>True</td>\n",
       "      <td>True</td>\n",
       "      <td>False</td>\n",
       "    </tr>\n",
       "    <tr>\n",
       "      <th>3</th>\n",
       "      <td>1</td>\n",
       "      <td>100.0</td>\n",
       "      <td>0.0</td>\n",
       "      <td>0.0</td>\n",
       "      <td>100.0</td>\n",
       "      <td>100.0</td>\n",
       "      <td>100.0</td>\n",
       "      <td>100.00</td>\n",
       "      <td>0.0</td>\n",
       "      <td>0.0</td>\n",
       "      <td>...</td>\n",
       "      <td>0.47</td>\n",
       "      <td>0.78</td>\n",
       "      <td>4.25</td>\n",
       "      <td>False</td>\n",
       "      <td>False</td>\n",
       "      <td>True</td>\n",
       "      <td>True</td>\n",
       "      <td>True</td>\n",
       "      <td>True</td>\n",
       "      <td>False</td>\n",
       "    </tr>\n",
       "    <tr>\n",
       "      <th>4</th>\n",
       "      <td>1</td>\n",
       "      <td>100.0</td>\n",
       "      <td>12.0</td>\n",
       "      <td>23.0</td>\n",
       "      <td>65.0</td>\n",
       "      <td>38.0</td>\n",
       "      <td>49.0</td>\n",
       "      <td>0.00</td>\n",
       "      <td>14.0</td>\n",
       "      <td>38.0</td>\n",
       "      <td>...</td>\n",
       "      <td>13.80</td>\n",
       "      <td>18.64</td>\n",
       "      <td>55.70</td>\n",
       "      <td>False</td>\n",
       "      <td>True</td>\n",
       "      <td>True</td>\n",
       "      <td>True</td>\n",
       "      <td>True</td>\n",
       "      <td>True</td>\n",
       "      <td>True</td>\n",
       "    </tr>\n",
       "  </tbody>\n",
       "</table>\n",
       "<p>5 rows × 31 columns</p>\n",
       "</div>"
      ],
      "text/plain": [
       "   myp  dis_plan  dtp3_lt_50  dtp3_50_79  dtp3_gt_80  dtp3_gt_95  dtp3_gt_90  \\\n",
       "0    1       0.0         6.0        26.0        68.0        35.0        47.0   \n",
       "1    1     100.0         0.0         0.0       100.0        97.0       100.0   \n",
       "2    0     100.0         0.0         0.0       100.0         0.0       100.0   \n",
       "3    1     100.0         0.0         0.0       100.0       100.0       100.0   \n",
       "4    1     100.0        12.0        23.0        65.0        38.0        49.0   \n",
       "\n",
       "   no_dtp3_cov  mcv1_lt_50  mcv1_50_79  ...  dtp1_dtp3_drop  dtp1_mcv1_drop  \\\n",
       "0         0.00         6.0        34.0  ...           13.00           18.00   \n",
       "1         0.00         0.0         3.0  ...            0.10            4.85   \n",
       "2        82.42         0.0        35.0  ...            3.06           18.37   \n",
       "3       100.00         0.0         0.0  ...            0.47            0.78   \n",
       "4         0.00        14.0        38.0  ...           13.80           18.64   \n",
       "\n",
       "   mcv1_mcv2_drop  vitamin_a_deficiency  high_bacterial_rate  hepb   ipv  \\\n",
       "0           26.83                  True                False  True  True   \n",
       "1            0.00                 False                False  True  True   \n",
       "2            3.75                 False                False  True  True   \n",
       "3            4.25                 False                False  True  True   \n",
       "4           55.70                 False                 True  True  True   \n",
       "\n",
       "    mmr   pcv  rotavirus  \n",
       "0  True  True       True  \n",
       "1  True  True      False  \n",
       "2  True  True      False  \n",
       "3  True  True      False  \n",
       "4  True  True       True  \n",
       "\n",
       "[5 rows x 31 columns]"
      ]
     },
     "execution_count": 29,
     "metadata": {},
     "output_type": "execute_result"
    }
   ],
   "source": [
    "dataframe.head()"
   ]
  },
  {
   "cell_type": "code",
   "execution_count": 30,
   "metadata": {},
   "outputs": [],
   "source": [
    "y_vita_a = dataframe['vitamin_a_deficiency']\n",
    "y_bact_rate = dataframe['high_bacterial_rate']\n",
    "\n",
    "X = dataframe.drop(labels=['vitamin_a_deficiency', 'high_bacterial_rate'], axis=1)"
   ]
  },
  {
   "cell_type": "code",
   "execution_count": 31,
   "metadata": {},
   "outputs": [],
   "source": [
    "attribute_list = dataframe.columns.to_list()"
   ]
  },
  {
   "cell_type": "markdown",
   "metadata": {},
   "source": [
    "### Scaling data with MinMaxScaler"
   ]
  },
  {
   "cell_type": "code",
   "execution_count": 32,
   "metadata": {},
   "outputs": [
    {
     "name": "stderr",
     "output_type": "stream",
     "text": [
      "/home/amey/projects/python/django/bonnyapp/env3/lib/python3.7/site-packages/sklearn/externals/joblib/__init__.py:15: FutureWarning: sklearn.externals.joblib is deprecated in 0.21 and will be removed in 0.23. Please import this functionality directly from joblib, which can be installed with: pip install joblib. If this warning is raised when loading pickled models, you may need to re-serialize those models with scikit-learn 0.21+.\n",
      "  warnings.warn(msg, category=FutureWarning)\n"
     ]
    },
    {
     "data": {
      "text/plain": [
       "['min_max_scaler.save']"
      ]
     },
     "execution_count": 32,
     "metadata": {},
     "output_type": "execute_result"
    }
   ],
   "source": [
    "from sklearn.preprocessing import MinMaxScaler\n",
    "from sklearn.externals import joblib\n",
    "\n",
    "scaler = MinMaxScaler().fit(X)\n",
    "scaled_data = scaler.fit_transform(X)\n",
    "\n",
    "scaler_filename = \"min_max_scaler.save\"\n",
    "joblib.dump(scaler, scaler_filename)"
   ]
  },
  {
   "cell_type": "markdown",
   "metadata": {},
   "source": [
    "### Performing Linear dimensionality reduction of the data with PCA"
   ]
  },
  {
   "cell_type": "code",
   "execution_count": 33,
   "metadata": {},
   "outputs": [
    {
     "data": {
      "text/plain": [
       "['pca_model.save']"
      ]
     },
     "execution_count": 33,
     "metadata": {},
     "output_type": "execute_result"
    }
   ],
   "source": [
    "from sklearn.decomposition import PCA\n",
    "\n",
    "pca = PCA()\n",
    "centered_data = pca.fit_transform(scaled_data)\n",
    "\n",
    "joblib.dump(pca, \"pca_model.save\")"
   ]
  },
  {
   "cell_type": "markdown",
   "metadata": {},
   "source": [
    "### Train Test Split"
   ]
  },
  {
   "cell_type": "code",
   "execution_count": 34,
   "metadata": {},
   "outputs": [],
   "source": [
    "from sklearn.model_selection import train_test_split\n",
    "\n",
    "X = centered_data\n",
    "\n",
    "X_train, X_test, y_train, y_test = train_test_split(X, y_vita_a, test_size=0.35, random_state=42) \n",
    "\n",
    "X_train_bact_rate, X_test_bact_rate, y_train_bact_rate, y_test_bact_rate = train_test_split(X, y_bact_rate, test_size=0.23, random_state=42)"
   ]
  },
  {
   "cell_type": "markdown",
   "metadata": {},
   "source": [
    "### Classifier 1: Decision Tree"
   ]
  },
  {
   "cell_type": "code",
   "execution_count": 35,
   "metadata": {
    "scrolled": true
   },
   "outputs": [
    {
     "name": "stdout",
     "output_type": "stream",
     "text": [
      "predicting Bacterial rate score:\n"
     ]
    },
    {
     "data": {
      "text/plain": [
       "79.54545454545455"
      ]
     },
     "execution_count": 35,
     "metadata": {},
     "output_type": "execute_result"
    }
   ],
   "source": [
    "from sklearn.tree import DecisionTreeClassifier\n",
    "\n",
    "dtree = DecisionTreeClassifier().fit(X_train_bact_rate, y_train_bact_rate)\n",
    "print(\"predicting Bacterial rate score:\")\n",
    "dtree.score(X_test_bact_rate, y_test_bact_rate)*100"
   ]
  },
  {
   "cell_type": "code",
   "execution_count": 36,
   "metadata": {},
   "outputs": [
    {
     "name": "stdout",
     "output_type": "stream",
     "text": [
      "vitamin deficiency prediction score:\n"
     ]
    },
    {
     "data": {
      "text/plain": [
       "74.6268656716418"
      ]
     },
     "execution_count": 36,
     "metadata": {},
     "output_type": "execute_result"
    }
   ],
   "source": [
    "vita_dtree = DecisionTreeClassifier().fit(X_train, y_train)\n",
    "print(\"vitamin deficiency prediction score:\")\n",
    "vita_dtree.score(X_test, y_test)*100"
   ]
  },
  {
   "cell_type": "code",
   "execution_count": 37,
   "metadata": {},
   "outputs": [],
   "source": [
    "bacterial_accuracies = dict()\n",
    "vitamin_accuracies = dict()\n",
    "bacterial_accuracies['dtree'] = dtree.score(X_test_bact_rate, y_test_bact_rate)*100\n",
    "vitamin_accuracies['dtree'] = vita_dtree.score(X_test_bact_rate, y_test_bact_rate)*100"
   ]
  },
  {
   "cell_type": "markdown",
   "metadata": {},
   "source": [
    "### Classifier 2: KNN"
   ]
  },
  {
   "cell_type": "code",
   "execution_count": 38,
   "metadata": {
    "scrolled": false
   },
   "outputs": [
    {
     "name": "stdout",
     "output_type": "stream",
     "text": [
      "predicting Bacterial rate score:  88.63636363636364\n",
      "predicting vitamin a deficiency rate:  89.55223880597015\n"
     ]
    }
   ],
   "source": [
    "from sklearn.neighbors import KNeighborsClassifier\n",
    "\n",
    "bacterial_rate_knn = KNeighborsClassifier(n_neighbors=10).fit(X_train_bact_rate, y_train_bact_rate)\n",
    "\n",
    "print(\"predicting Bacterial rate score: \", bacterial_rate_knn.score(X_test_bact_rate, y_test_bact_rate)*100)\n",
    "\n",
    "vita_a_knn = KNeighborsClassifier(n_neighbors=10).fit(X_train, y_train)\n",
    "\n",
    "print(\"predicting vitamin a deficiency rate: \", vita_a_knn.score(X_test, y_test)*100)"
   ]
  },
  {
   "cell_type": "code",
   "execution_count": 39,
   "metadata": {
    "scrolled": false
   },
   "outputs": [
    {
     "name": "stdout",
     "output_type": "stream",
     "text": [
      "[90.9090909090909, 90.9090909090909, 90.9090909090909, 88.63636363636364, 90.9090909090909, 90.9090909090909, 90.9090909090909, 88.63636363636364, 88.63636363636364, 88.63636363636364, 88.63636363636364, 88.63636363636364, 90.9090909090909, 88.63636363636364, 88.63636363636364, 86.36363636363636, 86.36363636363636, 86.36363636363636, 86.36363636363636, 86.36363636363636, 86.36363636363636, 86.36363636363636, 86.36363636363636, 86.36363636363636]\n",
      "\n",
      "[86.56716417910447, 83.5820895522388, 88.05970149253731, 85.07462686567165, 86.56716417910447, 88.05970149253731, 83.5820895522388, 89.55223880597015, 89.55223880597015, 89.55223880597015, 91.04477611940298, 91.04477611940298, 92.53731343283582, 89.55223880597015, 91.04477611940298, 88.05970149253731, 86.56716417910447, 82.08955223880598, 85.07462686567165, 82.08955223880598, 85.07462686567165, 82.08955223880598, 85.07462686567165, 79.1044776119403]\n"
     ]
    }
   ],
   "source": [
    "bacterial_rate_predictions = []\n",
    "vitamin_a_predictions = []\n",
    "vita_error_rate = []\n",
    "bact_error_rate = []\n",
    "for i in range(1,25):\n",
    "    bacterial_rate_knn = KNeighborsClassifier(n_neighbors=i).fit(X_train_bact_rate, y_train_bact_rate)\n",
    "    vitamin_a_knn = KNeighborsClassifier(n_neighbors=i).fit(X_train, y_train)\n",
    "    bacterial_rate_predictions.append(bacterial_rate_knn.score(X_test_bact_rate, y_test_bact_rate)*100)\n",
    "    vitamin_a_predictions.append(vitamin_a_knn.score(X_test, y_test)*100)\n",
    "    vita_error_rate.append(100 - vitamin_a_predictions[i-1])\n",
    "    bact_error_rate.append(100 - bacterial_rate_predictions[i-1])\n",
    "print(bacterial_rate_predictions)\n",
    "print()\n",
    "print(vitamin_a_predictions)"
   ]
  },
  {
   "cell_type": "code",
   "execution_count": 40,
   "metadata": {},
   "outputs": [
    {
     "data": {
      "image/png": "[encoded data removed]",
      "text/plain": [
       "<Figure size 720x432 with 1 Axes>"
      ]
     },
     "metadata": {
      "needs_background": "light"
     },
     "output_type": "display_data"
    }
   ],
   "source": [
    "plt.figure(figsize=(10,6))\n",
    "plt.plot(range(1,25),vita_error_rate,color='blue', linestyle='dashed', marker='o',\n",
    "         markerfacecolor='red', markersize=5)\n",
    "plt.title('Error Rate vs. K Value')\n",
    "plt.xlabel('K')\n",
    "plt.ylabel('Error Rate')\n",
    "plt.show()"
   ]
  },
  {
   "cell_type": "code",
   "execution_count": 41,
   "metadata": {},
   "outputs": [
    {
     "name": "stdout",
     "output_type": "stream",
     "text": [
      "[90.9090909090909, 90.9090909090909, 90.9090909090909, 88.63636363636364, 90.9090909090909, 90.9090909090909, 90.9090909090909, 88.63636363636364, 88.63636363636364, 88.63636363636364, 88.63636363636364, 88.63636363636364, 90.9090909090909, 88.63636363636364, 88.63636363636364, 86.36363636363636, 86.36363636363636, 86.36363636363636, 86.36363636363636, 86.36363636363636, 86.36363636363636, 86.36363636363636, 86.36363636363636, 86.36363636363636]\n"
     ]
    },
    {
     "data": {
      "image/png": "[encoded data removed]",
      "text/plain": [
       "<Figure size 720x432 with 1 Axes>"
      ]
     },
     "metadata": {
      "needs_background": "light"
     },
     "output_type": "display_data"
    }
   ],
   "source": [
    "print(bacterial_rate_predictions)\n",
    "\n",
    "plt.figure(figsize=(10,6))\n",
    "plt.plot(range(1,25),bact_error_rate,color='blue', linestyle='dashed', marker='o',\n",
    "         markerfacecolor='red', markersize=5)\n",
    "plt.title('Error Rate vs. K Value')\n",
    "plt.xlabel('K')\n",
    "plt.ylabel('Error Rate')\n",
    "plt.show()"
   ]
  },
  {
   "cell_type": "code",
   "execution_count": 42,
   "metadata": {
    "scrolled": false
   },
   "outputs": [
    {
     "data": {
      "text/plain": [
       "13"
      ]
     },
     "execution_count": 42,
     "metadata": {},
     "output_type": "execute_result"
    }
   ],
   "source": [
    "best_k_vita = np.where(vitamin_a_predictions == np.amax(vitamin_a_predictions))\n",
    "best_k_vita = best_k_vita[0][-1] + 1\n",
    "best_k_vita"
   ]
  },
  {
   "cell_type": "code",
   "execution_count": 43,
   "metadata": {},
   "outputs": [
    {
     "data": {
      "text/plain": [
       "13"
      ]
     },
     "execution_count": 43,
     "metadata": {},
     "output_type": "execute_result"
    }
   ],
   "source": [
    "best_bact_rate = np.where(bacterial_rate_predictions == np.amax(bacterial_rate_predictions))\n",
    "best_bact_rate = best_bact_rate[0][-1] + 1\n",
    "best_bact_rate"
   ]
  },
  {
   "cell_type": "code",
   "execution_count": 44,
   "metadata": {},
   "outputs": [],
   "source": [
    "knn_bacterial_rate = KNeighborsClassifier(n_neighbors=best_bact_rate).fit(X_train_bact_rate, y_train_bact_rate)\n",
    "knn_vitamin_a = KNeighborsClassifier(n_neighbors=best_k_vita).fit(X_train, y_train)"
   ]
  },
  {
   "cell_type": "code",
   "execution_count": 45,
   "metadata": {},
   "outputs": [],
   "source": [
    "bacterial_accuracies['knn'] = knn_bacterial_rate.score(X_test_bact_rate, y_test_bact_rate)*100\n",
    "vitamin_accuracies['knn'] = knn_vitamin_a.score(X_test, y_test)*100"
   ]
  },
  {
   "cell_type": "markdown",
   "metadata": {},
   "source": [
    "### Classifier 3: Gaussian Naive Bayes"
   ]
  },
  {
   "cell_type": "code",
   "execution_count": 46,
   "metadata": {},
   "outputs": [],
   "source": [
    "from sklearn.naive_bayes import GaussianNB\n",
    "\n",
    "vita_gnb = GaussianNB().fit(X_train, y_train)\n",
    "\n",
    "bact_rate_gnb = GaussianNB().fit(X_train_bact_rate, y_train_bact_rate)\n",
    "\n",
    "bacterial_accuracies['gnb'] = bact_rate_gnb.score(X_test_bact_rate, y_test_bact_rate)*100\n",
    "vitamin_accuracies['gnb'] = vita_gnb.score(X_test, y_test)*100"
   ]
  },
  {
   "cell_type": "markdown",
   "metadata": {},
   "source": [
    "### Classifier 4: Support vector machines"
   ]
  },
  {
   "cell_type": "code",
   "execution_count": 47,
   "metadata": {
    "scrolled": true
   },
   "outputs": [],
   "source": [
    "from sklearn.svm import SVC\n",
    "\n",
    "svc = SVC()\n",
    "svc.fit(X_train, y_train)\n",
    "\n",
    "vitamin_accuracies['svc'] = svc.score(X_test, y_test)*100\n",
    "\n",
    "bact_rate_svc = SVC()\n",
    "bact_rate_svc.fit(X_train_bact_rate, y_train_bact_rate)\n",
    "\n",
    "bacterial_accuracies['svc'] = bact_rate_svc.score(X_test_bact_rate, y_test_bact_rate)*100"
   ]
  },
  {
   "cell_type": "markdown",
   "metadata": {},
   "source": [
    "### Classifier 5: Random Forest"
   ]
  },
  {
   "cell_type": "code",
   "execution_count": 48,
   "metadata": {},
   "outputs": [],
   "source": [
    "from sklearn.ensemble import RandomForestClassifier\n",
    "\n",
    "rfc = RandomForestClassifier().fit(X_train, y_train)\n",
    "\n",
    "rfc.score(X_test, y_test)*100\n",
    "vitamin_accuracies['rfc'] = rfc.score(X_test, y_test)*100"
   ]
  },
  {
   "cell_type": "code",
   "execution_count": 49,
   "metadata": {},
   "outputs": [],
   "source": [
    "rfc = RandomForestClassifier().fit(X_train_bact_rate, y_train_bact_rate)\n",
    "\n",
    "bacterial_accuracies['rfc'] = rfc.score(X_test_bact_rate, y_test_bact_rate)*100"
   ]
  },
  {
   "cell_type": "markdown",
   "metadata": {},
   "source": [
    "### Classifier 5: Gradient Boosting"
   ]
  },
  {
   "cell_type": "code",
   "execution_count": 50,
   "metadata": {},
   "outputs": [],
   "source": [
    "from sklearn.ensemble import GradientBoostingClassifier\n",
    "lr_list = [0.05, 0.075, 0.1, 0.25, 0.5, 0.75, 1]\n",
    "gbc_accuracies = []\n",
    "for learning_rate in lr_list:\n",
    "    gbc = GradientBoostingClassifier(n_estimators=20, learning_rate=learning_rate, max_features=4, max_depth=5, random_state=0).fit(X_train, y_train)\n",
    "    gbc_accuracies.append(gbc.score(X_test, y_test)*100)\n",
    "\n",
    "best_lr_vita = np.where(gbc_accuracies == np.amax(gbc_accuracies))\n",
    "best_lr_vita = lr_list[best_lr_vita[0][-1]]\n",
    "best_lr_vita\n",
    "\n",
    "gbc_vita = GradientBoostingClassifier(n_estimators=20, learning_rate=best_lr_vita, max_features=4, max_depth=5, random_state=0).fit(X_train, y_train)\n",
    "vitamin_accuracies['gradient_boosting'] = gbc_vita.score(X_test, y_test)*100"
   ]
  },
  {
   "cell_type": "code",
   "execution_count": 51,
   "metadata": {},
   "outputs": [
    {
     "name": "stdout",
     "output_type": "stream",
     "text": [
      "1\n"
     ]
    }
   ],
   "source": [
    "gbc_accuracies = []\n",
    "for learning_rate in lr_list:\n",
    "    gbc = GradientBoostingClassifier(n_estimators=20, learning_rate=learning_rate, max_features=4, max_depth=5, random_state=0).fit(X_train_bact_rate, y_train_bact_rate)\n",
    "    gbc_accuracies.append(gbc.score(X_test_bact_rate, y_test_bact_rate)*100)\n",
    "    \n",
    "\n",
    "best_lr_bact = np.where(gbc_accuracies == np.amax(gbc_accuracies))\n",
    "best_lr_bact = lr_list[best_lr_bact[0][-1]]\n",
    "print(best_lr_bact)\n",
    "\n",
    "gbc_vita = GradientBoostingClassifier(n_estimators=20, learning_rate=best_lr_bact, max_features=4, max_depth=5, random_state=0).fit(X_train_bact_rate, y_train_bact_rate)\n",
    "bacterial_accuracies['gradient_boosting'] = gbc_vita.score(X_test_bact_rate, y_test_bact_rate)*100"
   ]
  },
  {
   "cell_type": "markdown",
   "metadata": {},
   "source": [
    "### Classifier 6: Stochastic Gradient Descent"
   ]
  },
  {
   "cell_type": "code",
   "execution_count": 52,
   "metadata": {},
   "outputs": [],
   "source": [
    "from sklearn.linear_model import SGDClassifier\n",
    "\n",
    "sdg = SGDClassifier().fit(X_train, y_train)\n",
    "\n",
    "vitamin_accuracies['s_gradient_descent'] = sdg.score(X_test, y_test)*100"
   ]
  },
  {
   "cell_type": "code",
   "execution_count": 53,
   "metadata": {
    "scrolled": true
   },
   "outputs": [],
   "source": [
    "sdg_bact_rate = SGDClassifier().fit(X_train_bact_rate, y_train_bact_rate)\n",
    "\n",
    "bacterial_accuracies['s_gradient_descent'] = sdg_bact_rate.score(X_test_bact_rate, y_test_bact_rate)*100"
   ]
  },
  {
   "cell_type": "markdown",
   "metadata": {},
   "source": [
    "### Classifier 7: Logistic Regression"
   ]
  },
  {
   "cell_type": "code",
   "execution_count": 54,
   "metadata": {},
   "outputs": [],
   "source": [
    "from sklearn.linear_model import LogisticRegression\n",
    "\n",
    "clf = LogisticRegression(random_state=0).fit(X_train, y_train)\n",
    "vitamin_accuracies['logistic_regression'] = clf.score(X_test, y_test)*100"
   ]
  },
  {
   "cell_type": "code",
   "execution_count": 55,
   "metadata": {},
   "outputs": [],
   "source": [
    "clf_y_bact_rate = LogisticRegression(random_state=0).fit(X_train_bact_rate, y_train_bact_rate)\n",
    "bacterial_accuracies['logistic_regression'] = clf_y_bact_rate.score(X_test_bact_rate, y_test_bact_rate)*100"
   ]
  },
  {
   "cell_type": "markdown",
   "metadata": {},
   "source": [
    "### Comparing Classifiers"
   ]
  },
  {
   "cell_type": "code",
   "execution_count": 56,
   "metadata": {},
   "outputs": [
    {
     "name": "stdout",
     "output_type": "stream",
     "text": [
      "{'dtree': 79.54545454545455, 'knn': 90.9090909090909, 'gnb': 79.54545454545455, 'svc': 88.63636363636364, 'rfc': 88.63636363636364, 'gradient_boosting': 90.9090909090909, 's_gradient_descent': 86.36363636363636, 'logistic_regression': 88.63636363636364}\n",
      "\n",
      "{'dtree': 81.81818181818183, 'knn': 92.53731343283582, 'gnb': 74.6268656716418, 'svc': 89.55223880597015, 'rfc': 82.08955223880598, 'gradient_boosting': 83.5820895522388, 's_gradient_descent': 76.11940298507463, 'logistic_regression': 86.56716417910447}\n"
     ]
    }
   ],
   "source": [
    "print(bacterial_accuracies)\n",
    "print()\n",
    "print(vitamin_accuracies)"
   ]
  },
  {
   "cell_type": "code",
   "execution_count": 57,
   "metadata": {},
   "outputs": [
    {
     "data": {
      "image/png": "[encoded data removed]",
      "text/plain": [
       "<Figure size 1152x432 with 1 Axes>"
      ]
     },
     "metadata": {
      "needs_background": "light"
     },
     "output_type": "display_data"
    }
   ],
   "source": [
    "plt.figure(figsize=(16, 6))\n",
    "plt.bar(list(bacterial_accuracies.keys()), bacterial_accuracies.values(), 0.65, align='center')\n",
    "plt.ylim(0, 100)\n",
    "plt.title(\"Compairing Accuracy Score of each bacterial_rate Classifier\")\n",
    "plt.show()"
   ]
  },
  {
   "cell_type": "code",
   "execution_count": 58,
   "metadata": {
    "scrolled": false
   },
   "outputs": [
    {
     "data": {
      "image/png": "[encoded data removed]",
      "text/plain": [
       "<Figure size 1152x432 with 1 Axes>"
      ]
     },
     "metadata": {
      "needs_background": "light"
     },
     "output_type": "display_data"
    }
   ],
   "source": [
    "plt.figure(figsize=(16, 6))\n",
    "plt.bar(list(vitamin_accuracies.keys()), vitamin_accuracies.values(), 0.65, align='center')\n",
    "plt.ylim(0, 100)\n",
    "plt.title(\"Compairing Accuracy Score of each vitamin a deficiency Classifier\")\n",
    "plt.show()"
   ]
  },
  {
   "cell_type": "code",
   "execution_count": 59,
   "metadata": {},
   "outputs": [],
   "source": [
    "import pickle\n",
    "bacterial_rate = 'bacterial_rate_model.save'\n",
    "vitamin_a = 'vitamin_a_model.save'\n",
    "bacterial_dict = 'bacterial_dict.save'\n",
    "vitamin_dict = 'vitamin_dict.save'\n",
    "pickle.dump(knn_bacterial_rate, open(bacterial_rate, 'wb'))\n",
    "pickle.dump(knn_vitamin_a, open(vitamin_a, 'wb'))\n",
    "pickle.dump(bacterial_accuracies, open(bacterial_dict, 'wb'))\n",
    "pickle.dump(vitamin_accuracies, open(vitamin_dict, 'wb'))\n",
    "pickle.dump(attribute_list, open('attribute_list.save', 'wb'))"
   ]
  }
 ],
 "metadata": {
  "kernelspec": {
   "display_name": "Django Shell-Plus",
   "language": "python",
   "name": "django_extensions"
  },
  "language_info": {
   "codemirror_mode": {
    "name": "ipython",
    "version": 3
   },
   "file_extension": ".py",
   "mimetype": "text/x-python",
   "name": "python",
   "nbconvert_exporter": "python",
   "pygments_lexer": "ipython3",
   "version": "3.7.5"
  }
 },
 "nbformat": 4,
 "nbformat_minor": 4
}
